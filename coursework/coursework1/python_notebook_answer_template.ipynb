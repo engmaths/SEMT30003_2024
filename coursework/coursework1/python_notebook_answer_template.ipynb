{
 "cells": [
  {
   "cell_type": "markdown",
   "id": "712f4624-799a-4d2f-9ba1-f2a25a4e6bbe",
   "metadata": {},
   "source": [
    "### Setup environment"
   ]
  },
  {
   "cell_type": "code",
   "execution_count": 1,
   "id": "78a77830-56e0-4d5b-94a4-ecce791ff7c1",
   "metadata": {},
   "outputs": [
    {
     "name": "stdout",
     "output_type": "stream",
     "text": [
      " __ \n",
      " __|\n",
      " __|\n",
      "3\n",
      " __ \n",
      "|__ \n",
      "|__|\n",
      "6\n",
      "   \n",
      "   |\n",
      "   |\n",
      "1\n",
      "test1\n",
      " __ \n",
      " __|\n",
      " __|\n",
      "0\n",
      "test2\n",
      " __ \n",
      "|__|\n",
      "|__|\n",
      "0\n"
     ]
    }
   ],
   "source": [
    "from seven_segments import *\n",
    "import numpy as np\n",
    "\n",
    "N = 11 # Number of elements in each pattern\n",
    "\n",
    "seven_segment(three)\n",
    "seven_segment(six)\n",
    "seven_segment(one)\n",
    "print(\"test1\")\n",
    "seven_segment(test1)\n",
    "print(\"test2\")\n",
    "seven_segment(test2)"
   ]
  },
  {
   "cell_type": "markdown",
   "id": "aff1213c-f1b4-4020-b647-294d8cb099d1",
   "metadata": {},
   "source": [
    "### Create the weight matrix"
   ]
  },
  {
   "cell_type": "code",
   "execution_count": 2,
   "id": "4dfe26de-b8f7-4a7f-bd82-8f29710366a7",
   "metadata": {},
   "outputs": [],
   "source": [
    "# Prepare an 11×11 weight matrix W \n",
    "# Storing patterns one, three, and six\n",
    "#W = ???"
   ]
  },
  {
   "cell_type": "markdown",
   "id": "4cc14e7b-c84e-4469-bc50-0a7d751b7a59",
   "metadata": {},
   "source": [
    "### Write a function to evolve the network via the McCulloch-Pitts formula"
   ]
  },
  {
   "cell_type": "code",
   "execution_count": 3,
   "id": "78e4ffa1-55ef-4a45-ac24-33085abd5cfe",
   "metadata": {},
   "outputs": [],
   "source": [
    "#subroutines? \n",
    "\n",
    "#def evolve(???):\n",
    "#    ???\n",
    "#    return ???"
   ]
  },
  {
   "cell_type": "markdown",
   "id": "1b89e392-3cc8-4661-9391-3e14c41c4ecc",
   "metadata": {},
   "source": [
    "### Evolve patterns `test1` and `test2`\n",
    "\n",
    "For each of the two test patterns, evolve the patterns until they stop\n",
    "changing, printing the pattern at each step"
   ]
  },
  {
   "cell_type": "code",
   "execution_count": 4,
   "id": "80059c12-91b8-430e-be87-be01389b359d",
   "metadata": {},
   "outputs": [],
   "source": [
    "# ??? your code here"
   ]
  }
 ],
 "metadata": {
  "kernelspec": {
   "display_name": "Python 3 (ipykernel)",
   "language": "python",
   "name": "python3"
  },
  "language_info": {
   "codemirror_mode": {
    "name": "ipython",
    "version": 3
   },
   "file_extension": ".py",
   "mimetype": "text/x-python",
   "name": "python",
   "nbconvert_exporter": "python",
   "pygments_lexer": "ipython3",
   "version": "3.10.12"
  }
 },
 "nbformat": 4,
 "nbformat_minor": 5
}
