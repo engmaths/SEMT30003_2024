{
 "cells": [
  {
   "cell_type": "markdown",
   "id": "bbd484fc-5008-4c87-86b2-a6e1affbf607",
   "metadata": {},
   "source": [
    "### Setup environment"
   ]
  },
  {
   "cell_type": "code",
   "execution_count": 1,
   "id": "24a94a05-e129-4c87-907e-d416ee38cb66",
   "metadata": {},
   "outputs": [
    {
     "name": "stdout",
     "output_type": "stream",
     "text": [
      " _ \n",
      " _|\n",
      " _|\n",
      "3\n",
      " _ \n",
      "|_ \n",
      "|_|\n",
      "6\n",
      "   \n",
      "  |\n",
      "  |\n",
      "1\n",
      "test1 _ \n",
      " _|\n",
      " _|\n",
      "0\n",
      "test2 _ \n",
      "|_|\n",
      "|_|\n",
      "0\n"
     ]
    }
   ],
   "source": [
    "using IJulia\n",
    "include(\"seven_segments.jl\") \n",
    "\n",
    "N = 11 # Number of elements in each pattern\n",
    "\n",
    "seven_segment(three)\n",
    "seven_segment(six)\n",
    "seven_segment(one)\n",
    "print(\"test1\")\n",
    "seven_segment(test1)\n",
    "print(\"test2\")\n",
    "seven_segment(test2)"
   ]
  },
  {
   "cell_type": "markdown",
   "id": "82d7f6a7-565d-4d86-bed6-d8612c4b5408",
   "metadata": {},
   "source": [
    "### Create the weight matrix"
   ]
  },
  {
   "cell_type": "code",
   "execution_count": 2,
   "id": "c3150f0c-d255-45f2-ab7f-f40d90de1fec",
   "metadata": {},
   "outputs": [],
   "source": [
    "# Prepare an 11×11 weight matrix W \n",
    "# Storing patterns one, three, and six\n",
    "#W = ???"
   ]
  },
  {
   "cell_type": "markdown",
   "id": "71bafa34-3448-47f6-bba1-ddc6c87e6515",
   "metadata": {},
   "source": [
    "### Write a function to evolve the network via the McCulloch-Pitts formula"
   ]
  },
  {
   "cell_type": "code",
   "execution_count": 3,
   "id": "51a117e4-4ebe-4cc7-a59f-508b3757d0ed",
   "metadata": {},
   "outputs": [],
   "source": [
    "#subroutines? \n",
    "\n",
    "#function evolve(???)\n",
    "#    ???\n",
    "#end"
   ]
  },
  {
   "cell_type": "markdown",
   "id": "bb373243-da1d-42e2-9f85-e8594e54c93b",
   "metadata": {},
   "source": [
    "### Evolve patterns `test1` and `test2`\n",
    "\n",
    "For each of the two test patterns, evolve the patterns until they stop\n",
    "changing, printing the pattern at each step"
   ]
  },
  {
   "cell_type": "code",
   "execution_count": 4,
   "id": "3ce96760-666a-42cd-9b80-466797188edc",
   "metadata": {},
   "outputs": [],
   "source": [
    "# ??? your code here"
   ]
  }
 ],
 "metadata": {
  "kernelspec": {
   "display_name": "Julia 1.10.5",
   "language": "julia",
   "name": "julia-1.10"
  },
  "language_info": {
   "file_extension": ".jl",
   "mimetype": "application/julia",
   "name": "julia",
   "version": "1.10.5"
  }
 },
 "nbformat": 4,
 "nbformat_minor": 5
}
