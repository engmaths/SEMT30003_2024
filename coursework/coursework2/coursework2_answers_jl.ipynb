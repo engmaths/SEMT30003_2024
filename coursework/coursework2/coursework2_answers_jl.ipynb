{
 "cells": [
  {
   "cell_type": "markdown",
   "id": "d9b69198-1c58-44a6-8d13-23efdfe5b025",
   "metadata": {},
   "source": [
    "### Configure environment"
   ]
  },
  {
   "cell_type": "code",
   "execution_count": null,
   "id": "5969af79-1014-4c58-a71d-58f1ac12979f",
   "metadata": {},
   "outputs": [],
   "source": [
    "using IJulia\n",
    "include(\"load.jl\") "
   ]
  },
  {
   "cell_type": "markdown",
   "id": "eb439af0-d117-45f2-a3b3-cbd85858aabc",
   "metadata": {},
   "source": [
    "### Set up problem\n",
    "\n",
    "Currently, `points` is a list of tuples, where each tuple contains a string (the \"red\", \"blue\" label), and a length-5 vector of point coordinates.\n",
    "Some folks might choose to reformat this slightly for computational convenience. "
   ]
  },
  {
   "cell_type": "code",
   "execution_count": null,
   "id": "9f9a3d0d-3a61-4eea-9c98-4f37472740e4",
   "metadata": {},
   "outputs": [],
   "source": [
    "# your code here"
   ]
  },
  {
   "cell_type": "markdown",
   "id": "089e2564-d3d8-4704-b565-64eb3075fd4e",
   "metadata": {},
   "source": [
    "### Implement the perceptron learning rule"
   ]
  },
  {
   "cell_type": "code",
   "execution_count": null,
   "id": "766db923-f395-4896-92b3-d08b5d18ad69",
   "metadata": {},
   "outputs": [],
   "source": [
    "eta = 0.01 # learning rate"
   ]
  },
  {
   "cell_type": "markdown",
   "id": "08cab8a1-123a-4687-adc0-08b4aebae938",
   "metadata": {},
   "source": [
    "### Demonstrate trained network accuracy"
   ]
  },
  {
   "cell_type": "markdown",
   "id": "78bc701f-8954-4944-9a60-6575bc58d5b5",
   "metadata": {},
   "source": [
    "### Further exploration\n",
    "\n",
    "1. Try a different nonlinearity (something other than the McCulloch-Pitts binary threshold unit)\n",
    "2. Can you devise any tweaks to the perceptron learning rule? What rule corresponds to gradient descent for differentiable neuronal nonlinearities?\n",
    "3. How does performance change if data are mis-labelled? Are there configurations that the network cannot learn to separate? "
   ]
  }
 ],
 "metadata": {
  "kernelspec": {
   "display_name": "Julia 1.10.5",
   "language": "julia",
   "name": "julia-1.10"
  },
  "language_info": {
   "file_extension": ".jl",
   "mimetype": "application/julia",
   "name": "julia",
   "version": "1.10.5"
  }
 },
 "nbformat": 4,
 "nbformat_minor": 5
}
