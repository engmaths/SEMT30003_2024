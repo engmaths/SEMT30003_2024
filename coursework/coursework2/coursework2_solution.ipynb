{
 "cells": [
  {
   "cell_type": "code",
   "execution_count": 8,
   "id": "846e5c4d-bdd4-40b3-9d3e-cb6fabacb633",
   "metadata": {},
   "outputs": [
    {
     "name": "stdout",
     "output_type": "stream",
     "text": [
      "Percent correct:  65.00%\n",
      "Percent correct:  95.00%\n",
      "Percent correct:  95.00%\n",
      "Percent correct:  95.00%\n",
      "Percent correct:  95.00%\n",
      "Percent correct:  95.00%\n",
      "Percent correct:  95.00%\n",
      "Percent correct:  95.00%\n",
      "Percent correct:  95.00%\n",
      "Percent correct: 100.00%\n",
      "Weights: [ 1.4173377  -1.06004317  0.82584373 -2.53221965  0.04318882]\n",
      "Threshold: 0.507536225276481\n"
     ]
    }
   ],
   "source": [
    "### Configure environment\n",
    "import numpy as np\n",
    "from load  import *\n",
    "from pylab import *\n",
    "\n",
    "### Set up problem\n",
    "# `points` is a list of tuples\n",
    "# each tuple contains a string (the \"red\", \"blue\" label),\n",
    "# and a length-5 vector of point coordinates.\n",
    "labels, features = zip(*points)\n",
    "y = float32([-1 if l=='blue' else 1 for l in labels])\n",
    "x = float32(features).T\n",
    "\n",
    "### Implement the perceptron learning rule\n",
    "W = randn(5) # Start with random weights\n",
    "θ = randn()  # Start with random bias\n",
    "η = 0.01     # learning rate\n",
    "for epoch in range(100):\n",
    "    y_hat = (W@x >= θ)*2-1\n",
    "    accuracy = mean(y==y_hat)\n",
    "    print(\"Percent correct: %6.2f%%\"%(accuracy*100))\n",
    "    if accuracy >= 1:\n",
    "        break\n",
    "    W += η*(x@(y - y_hat))\n",
    "    θ += η*(sum(y - y_hat))\n",
    "\n",
    "print(\"Weights:\",W)\n",
    "print(\"Threshold:\",θ)"
   ]
  }
 ],
 "metadata": {
  "kernelspec": {
   "display_name": "Python 3 (ipykernel)",
   "language": "python",
   "name": "python3"
  },
  "language_info": {
   "codemirror_mode": {
    "name": "ipython",
    "version": 3
   },
   "file_extension": ".py",
   "mimetype": "text/x-python",
   "name": "python",
   "nbconvert_exporter": "python",
   "pygments_lexer": "ipython3",
   "version": "3.10.12"
  }
 },
 "nbformat": 4,
 "nbformat_minor": 5
}
