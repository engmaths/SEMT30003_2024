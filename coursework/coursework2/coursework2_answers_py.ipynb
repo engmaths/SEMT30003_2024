{
 "cells": [
  {
   "cell_type": "markdown",
   "id": "712f4624-799a-4d2f-9ba1-f2a25a4e6bbe",
   "metadata": {},
   "source": [
    "### Configure environment"
   ]
  },
  {
   "cell_type": "code",
   "execution_count": null,
   "id": "78a77830-56e0-4d5b-94a4-ecce791ff7c1",
   "metadata": {},
   "outputs": [],
   "source": [
    "import numpy as np\n",
    "from load import * # get load_points function"
   ]
  },
  {
   "cell_type": "markdown",
   "id": "f0584ea0-ba2a-4beb-b902-3c2dde2b35fd",
   "metadata": {},
   "source": [
    "### Set up problem\n",
    "\n",
    "Currently, `points` is a list of tuples, where each tuple contains a string (the \"red\", \"blue\" label), and a length-5 vector of point coordinates.\n",
    "Some folks might choose to reformat this slightly for computational convenience. "
   ]
  },
  {
   "cell_type": "code",
   "execution_count": null,
   "id": "ac299545-d176-4e29-b8d9-f9bc39576671",
   "metadata": {},
   "outputs": [],
   "source": [
    "# your code here"
   ]
  },
  {
   "cell_type": "markdown",
   "id": "39e27c5e-ed2b-4c93-9f40-7b03efe91c97",
   "metadata": {},
   "source": [
    "### Implement the perceptron learning rule"
   ]
  },
  {
   "cell_type": "code",
   "execution_count": null,
   "id": "9659e2d4-e6fd-46e0-8b60-92dce5605706",
   "metadata": {},
   "outputs": [],
   "source": [
    "eta = 0.01 # learning rate"
   ]
  },
  {
   "cell_type": "markdown",
   "id": "8ecd9bd1-67dd-49fd-b807-1cef2ffbcccf",
   "metadata": {},
   "source": [
    "### Demonstrate trained network accuracy"
   ]
  },
  {
   "cell_type": "markdown",
   "id": "82629a26-7ad0-43a5-9ffd-2e657c116184",
   "metadata": {},
   "source": [
    "### Further exploration\n",
    "\n",
    "1. Try a different nonlinearity (something other than the McCulloch-Pitts binary threshold unit)\n",
    "2. Can you devise any tweaks to the perceptron learning rule? What rule corresponds to gradient descent for differentiable neuronal nonlinearities?\n",
    "3. How does performance change if data are mis-labelled? Are there configurations that the network cannot learn to separate? "
   ]
  }
 ],
 "metadata": {
  "kernelspec": {
   "display_name": "Python 3 (ipykernel)",
   "language": "python",
   "name": "python3"
  },
  "language_info": {
   "codemirror_mode": {
    "name": "ipython",
    "version": 3
   },
   "file_extension": ".py",
   "mimetype": "text/x-python",
   "name": "python",
   "nbconvert_exporter": "python",
   "pygments_lexer": "ipython3",
   "version": "3.10.12"
  }
 },
 "nbformat": 4,
 "nbformat_minor": 5
}
